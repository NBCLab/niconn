{
 "cells": [
  {
   "cell_type": "code",
   "execution_count": null,
   "metadata": {},
   "outputs": [],
   "source": [
    "from hcp1200 import hcp1200_download\n",
    "from hcp1200 import generate_random_pid\n",
    "import os\n",
    "import os.path as op\n",
    "import boto3\n",
    "import pandas as pd\n",
    "from hcp1200 import download_ppt"
   ]
  },
  {
   "cell_type": "code",
   "execution_count": null,
   "metadata": {},
   "outputs": [],
   "source": [
    "hcp_data_dir = '/Users/miriedel/hcp1200'"
   ]
  },
  {
   "cell_type": "code",
   "execution_count": null,
   "metadata": {},
   "outputs": [],
   "source": [
    "s3 = boto3.resource('s3')\n",
    "\n",
    "hcp1200_download(hcp_data_dir)\n",
    "\n",
    "hcp_data_dir = op.join(hcp_data_dir, 'hcp-openaccess', 'HCP1200')\n",
    "\n",
    "pids = generate_random_pid(hcp_data_dir=hcp_data_dir, n_pid=10)\n",
    "\n",
    "pids_df = pd.DataFrame()\n",
    "pids_df['participant_id'] = pids\n",
    "pids_df.to_csv(op.join(hcp_data_dir, 'hcp1200_participants-150.tsv'), index=False, sep='\\t')\n",
    "s3.Bucket('niconn').upload_file(op.join(hcp_data_dir, 'hcp1200_participants-150.tsv'), 'hcp1200_participants-150.tsv')\n",
    "\n",
    "download_ppt(hcp_data_dir=hcp_data_dir, pid=pids_df['participant_id'].tolist())"
   ]
  }
 ],
 "metadata": {
  "kernelspec": {
   "display_name": "Python 3",
   "language": "python",
   "name": "python3"
  },
  "language_info": {
   "codemirror_mode": {
    "name": "ipython",
    "version": 3
   },
   "file_extension": ".py",
   "mimetype": "text/x-python",
   "name": "python",
   "nbconvert_exporter": "python",
   "pygments_lexer": "ipython3",
   "version": "3.7.1"
  }
 },
 "nbformat": 4,
 "nbformat_minor": 4
}
