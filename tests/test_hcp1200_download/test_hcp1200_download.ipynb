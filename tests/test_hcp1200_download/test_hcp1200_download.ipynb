{
 "cells": [
  {
   "cell_type": "code",
   "execution_count": 1,
   "metadata": {},
   "outputs": [],
   "source": [
    "import os\n",
    "import os.path as op\n",
    "import sys\n",
    "sys.path.append('/Users/miriedel/Desktop/GitHub/niconn/')\n",
    "from datasets.hcp1200 import hcp1200_download\n",
    "from datasets.hcp1200 import generate_random_pid\n",
    "from datasets.hcp1200 import download_ppt"
   ]
  },
  {
   "cell_type": "code",
   "execution_count": 2,
   "metadata": {},
   "outputs": [],
   "source": [
    "hcp_data_dir = '/Users/miriedel/Desktop/GitHub/niconn/tests/test_hcp1200_download/hcp_data_dir'"
   ]
  },
  {
   "cell_type": "code",
   "execution_count": 3,
   "metadata": {},
   "outputs": [
    {
     "name": "stderr",
     "output_type": "stream",
     "text": [
      "[WARNING] realpath of PWD=/Users/miriedel/Desktop/GitHub/niconn/tests/test_hcp1200_download is /Users/miriedel/Desktop/GitHub/niconn/tests/test_hcp1200_download whenever os.getcwd()=/Users/miriedel/Desktop/GitHub/niconn/tests/test_hcp1200_download/hcp_data_dir. From now on will be returning os.getcwd(). Directory symlinks in the paths will be resolved \n"
     ]
    }
   ],
   "source": [
    "hcp1200_download(hcp_data_dir=hcp_data_dir)"
   ]
  },
  {
   "cell_type": "code",
   "execution_count": 4,
   "metadata": {},
   "outputs": [
    {
     "name": "stdout",
     "output_type": "stream",
     "text": [
      "['250932']\n"
     ]
    }
   ],
   "source": [
    "hcp_data_dir = op.join(hcp_data_dir, 'hcp-openaccess', 'HCP1200')\n",
    "pids = generate_random_pid(hcp_data_dir=hcp_data_dir, n_pid=1)\n",
    "print(pids)"
   ]
  },
  {
   "cell_type": "code",
   "execution_count": 5,
   "metadata": {},
   "outputs": [
    {
     "name": "stderr",
     "output_type": "stream",
     "text": [
      "[INFO] Cloning dataset to <Dataset path=/Users/miriedel/Desktop/GitHub/niconn/tests/test_hcp1200_download/hcp_data_dir/hcp-openaccess/HCP1200/250932> \n",
      "[INFO] Attempting to clone from http://datasets.datalad.org/hcp-openaccess/HCP1200/250932/.git to /Users/miriedel/Desktop/GitHub/niconn/tests/test_hcp1200_download/hcp_data_dir/hcp-openaccess/HCP1200/250932 \n"
     ]
    },
    {
     "data": {
      "application/vnd.jupyter.widget-view+json": {
       "model_id": "",
       "version_major": 2,
       "version_minor": 0
      },
      "text/plain": [
       "HBox(children=(FloatProgress(value=0.0, description='Cloning (counting objects)', style=ProgressStyle(descript…"
      ]
     },
     "metadata": {},
     "output_type": "display_data"
    },
    {
     "data": {
      "application/vnd.jupyter.widget-view+json": {
       "model_id": "",
       "version_major": 2,
       "version_minor": 0
      },
      "text/plain": [
       "HBox(children=(FloatProgress(value=0.0, description='Cloning (compressing objects)', max=592.0, style=Progress…"
      ]
     },
     "metadata": {},
     "output_type": "display_data"
    },
    {
     "data": {
      "application/vnd.jupyter.widget-view+json": {
       "model_id": "",
       "version_major": 2,
       "version_minor": 0
      },
      "text/plain": [
       "HBox(children=(FloatProgress(value=0.0, description='Cloning (receiving objects)', max=1241.0, style=ProgressS…"
      ]
     },
     "metadata": {},
     "output_type": "display_data"
    },
    {
     "data": {
      "application/vnd.jupyter.widget-view+json": {
       "model_id": "",
       "version_major": 2,
       "version_minor": 0
      },
      "text/plain": [
       "HBox(children=(FloatProgress(value=0.0, description='Cloning (resolving stuff)', max=325.0, style=ProgressStyl…"
      ]
     },
     "metadata": {},
     "output_type": "display_data"
    },
    {
     "name": "stderr",
     "output_type": "stream",
     "text": [
      "[INFO] Completed clone attempts for <Dataset path=/Users/miriedel/Desktop/GitHub/niconn/tests/test_hcp1200_download/hcp_data_dir/hcp-openaccess/HCP1200/250932> \n",
      "[INFO] Cloning dataset to <Dataset path=/Users/miriedel/Desktop/GitHub/niconn/tests/test_hcp1200_download/hcp_data_dir/hcp-openaccess/HCP1200/250932/MNINonLinear> \n",
      "[INFO] Attempting to clone from http://datasets.datalad.org/hcp-openaccess/HCP1200/250932/MNINonLinear/.git to /Users/miriedel/Desktop/GitHub/niconn/tests/test_hcp1200_download/hcp_data_dir/hcp-openaccess/HCP1200/250932/MNINonLinear \n"
     ]
    },
    {
     "data": {
      "application/vnd.jupyter.widget-view+json": {
       "model_id": "",
       "version_major": 2,
       "version_minor": 0
      },
      "text/plain": [
       "HBox(children=(FloatProgress(value=0.0, description='Cloning (counting objects)', style=ProgressStyle(descript…"
      ]
     },
     "metadata": {},
     "output_type": "display_data"
    },
    {
     "data": {
      "application/vnd.jupyter.widget-view+json": {
       "model_id": "",
       "version_major": 2,
       "version_minor": 0
      },
      "text/plain": [
       "HBox(children=(FloatProgress(value=0.0, description='Cloning (compressing objects)', max=58406.0, style=Progre…"
      ]
     },
     "metadata": {},
     "output_type": "display_data"
    },
    {
     "data": {
      "application/vnd.jupyter.widget-view+json": {
       "model_id": "",
       "version_major": 2,
       "version_minor": 0
      },
      "text/plain": [
       "HBox(children=(FloatProgress(value=0.0, description='Cloning (receiving objects)', max=106960.0, style=Progres…"
      ]
     },
     "metadata": {},
     "output_type": "display_data"
    },
    {
     "data": {
      "application/vnd.jupyter.widget-view+json": {
       "model_id": "",
       "version_major": 2,
       "version_minor": 0
      },
      "text/plain": [
       "HBox(children=(FloatProgress(value=0.0, description='Cloning (resolving stuff)', max=46516.0, style=ProgressSt…"
      ]
     },
     "metadata": {},
     "output_type": "display_data"
    },
    {
     "data": {
      "application/vnd.jupyter.widget-view+json": {
       "model_id": "",
       "version_major": 2,
       "version_minor": 0
      },
      "text/plain": [
       "HBox(children=(FloatProgress(value=0.0, description='Cloning (checking things out)', max=13611.0, style=Progre…"
      ]
     },
     "metadata": {},
     "output_type": "display_data"
    },
    {
     "name": "stderr",
     "output_type": "stream",
     "text": [
      "[INFO] Completed clone attempts for <Dataset path=/Users/miriedel/Desktop/GitHub/niconn/tests/test_hcp1200_download/hcp_data_dir/hcp-openaccess/HCP1200/250932/MNINonLinear> \n"
     ]
    },
    {
     "data": {
      "application/vnd.jupyter.widget-view+json": {
       "model_id": "",
       "version_major": 2,
       "version_minor": 0
      },
      "text/plain": [
       "HBox(children=(FloatProgress(value=0.0, description='Results/rfM .. lean.nii.gz', max=998162067.0, style=Progr…"
      ]
     },
     "metadata": {},
     "output_type": "display_data"
    },
    {
     "data": {
      "application/vnd.jupyter.widget-view+json": {
       "model_id": "",
       "version_major": 2,
       "version_minor": 0
      },
      "text/plain": [
       "HBox(children=(FloatProgress(value=0.0, description='Results/rfM .. lean.nii.gz', max=997284676.0, style=Progr…"
      ]
     },
     "metadata": {},
     "output_type": "display_data"
    },
    {
     "data": {
      "application/vnd.jupyter.widget-view+json": {
       "model_id": "",
       "version_major": 2,
       "version_minor": 0
      },
      "text/plain": [
       "HBox(children=(FloatProgress(value=0.0, description='Results/rfM .. lean.nii.gz', max=995613195.0, style=Progr…"
      ]
     },
     "metadata": {},
     "output_type": "display_data"
    },
    {
     "data": {
      "application/vnd.jupyter.widget-view+json": {
       "model_id": "",
       "version_major": 2,
       "version_minor": 0
      },
      "text/plain": [
       "HBox(children=(FloatProgress(value=0.0, description='Results/rfM .. lean.nii.gz', max=995803821.0, style=Progr…"
      ]
     },
     "metadata": {},
     "output_type": "display_data"
    }
   ],
   "source": [
    "download_ppt(rs_data_dir=hcp_data_dir, pid=pids)"
   ]
  }
 ],
 "metadata": {
  "kernelspec": {
   "display_name": "Python 3",
   "language": "python",
   "name": "python3"
  },
  "language_info": {
   "codemirror_mode": {
    "name": "ipython",
    "version": 3
   },
   "file_extension": ".py",
   "mimetype": "text/x-python",
   "name": "python",
   "nbconvert_exporter": "python",
   "pygments_lexer": "ipython3",
   "version": "3.7.1"
  }
 },
 "nbformat": 4,
 "nbformat_minor": 4
}
