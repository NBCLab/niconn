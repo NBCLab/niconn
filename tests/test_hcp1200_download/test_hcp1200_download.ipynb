{
 "cells": [
  {
   "cell_type": "code",
   "execution_count": 1,
   "metadata": {},
   "outputs": [],
   "source": [
    "import sys\n",
    "sys.path.append('/Users/miriedel/Desktop/GitHub/niconn/')\n",
    "from datasets.hcp1200 import hcp1200_download"
   ]
  },
  {
   "cell_type": "code",
   "execution_count": 2,
   "metadata": {},
   "outputs": [],
   "source": [
    "hcp_data_dir = '/Users/miriedel/Desktop/GitHub/niconn/tests/test_hcp1200_download/hcp_data_dir'"
   ]
  },
  {
   "cell_type": "code",
   "execution_count": 3,
   "metadata": {},
   "outputs": [
    {
     "name": "stderr",
     "output_type": "stream",
     "text": [
      "[WARNING] realpath of PWD=/Users/miriedel/Desktop/GitHub/niconn/tests/test_hcp1200_download is /Users/miriedel/Desktop/GitHub/niconn/tests/test_hcp1200_download whenever os.getcwd()=/Users/miriedel/Desktop/GitHub/niconn/tests/test_hcp1200_download/hcp_data_dir. From now on will be returning os.getcwd(). Directory symlinks in the paths will be resolved \n"
     ]
    }
   ],
   "source": [
    "hcp1200_download(hcp_data_dir=hcp_data_dir)"
   ]
  }
 ],
 "metadata": {
  "kernelspec": {
   "display_name": "Python 3",
   "language": "python",
   "name": "python3"
  },
  "language_info": {
   "codemirror_mode": {
    "name": "ipython",
    "version": 3
   },
   "file_extension": ".py",
   "mimetype": "text/x-python",
   "name": "python",
   "nbconvert_exporter": "python",
   "pygments_lexer": "ipython3",
   "version": "3.7.1"
  }
 },
 "nbformat": 4,
 "nbformat_minor": 4
}
