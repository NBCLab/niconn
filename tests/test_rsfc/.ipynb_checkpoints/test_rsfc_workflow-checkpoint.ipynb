{
 "cells": [
  {
   "cell_type": "code",
   "execution_count": 1,
   "metadata": {},
   "outputs": [
    {
     "name": "stdout",
     "output_type": "stream",
     "text": [
      "200623-13:15:52,490 nipype.utils INFO:\n",
      "\t Running nipype version 1.4.2 (latest: 1.5.0)\n"
     ]
    },
    {
     "name": "stderr",
     "output_type": "stream",
     "text": [
      "/Library/Frameworks/Python.framework/Versions/3.7/lib/python3.7/site-packages/dicom/__init__.py:53: UserWarning: \n",
      "This code is using an older version of pydicom, which is no longer \n",
      "maintained as of Jan 2017.  You can access the new pydicom features and API \n",
      "by installing `pydicom` from PyPI.\n",
      "See 'Transitioning to pydicom 1.x' section at pydicom.readthedocs.org \n",
      "for more information.\n",
      "\n",
      "  warnings.warn(msg)\n"
     ]
    }
   ],
   "source": [
    "import sys\n",
    "import os\n",
    "sys.path.append('/Users/miriedel/Desktop/GitHub/niconn/')\n",
    "from connectivity.rs import rs_download_ppt"
   ]
  },
  {
   "cell_type": "code",
   "execution_count": 2,
   "metadata": {},
   "outputs": [],
   "source": [
    "rs_data_dir = '/Users/miriedel/Desktop/GitHub/niconn/tests/test_hcp1200_download/hcp_data_dir/HCP1200'\n",
    "os.chdir(rs_data_dir)"
   ]
  },
  {
   "cell_type": "code",
   "execution_count": 3,
   "metadata": {},
   "outputs": [
    {
     "name": "stderr",
     "output_type": "stream",
     "text": [
      "[WARNING] realpath of PWD=/Users/miriedel/Desktop/GitHub/niconn/tests/test_rsfc is /Users/miriedel/Desktop/GitHub/niconn/tests/test_rsfc whenever os.getcwd()=/Users/miriedel/Desktop/GitHub/niconn/tests/test_hcp1200_download/hcp_data_dir. From now on will be returning os.getcwd(). Directory symlinks in the paths will be resolved \n"
     ]
    },
    {
     "name": "stdout",
     "output_type": "stream",
     "text": [
      "395251\n",
      "ok\n"
     ]
    }
   ],
   "source": [
    "rs_download_ppt(rs_data_dir=rs_data_dir, n_ppt=1)"
   ]
  }
 ],
 "metadata": {
  "kernelspec": {
   "display_name": "Python 3",
   "language": "python",
   "name": "python3"
  },
  "language_info": {
   "codemirror_mode": {
    "name": "ipython",
    "version": 3
   },
   "file_extension": ".py",
   "mimetype": "text/x-python",
   "name": "python",
   "nbconvert_exporter": "python",
   "pygments_lexer": "ipython3",
   "version": "3.7.1"
  }
 },
 "nbformat": 4,
 "nbformat_minor": 4
}
