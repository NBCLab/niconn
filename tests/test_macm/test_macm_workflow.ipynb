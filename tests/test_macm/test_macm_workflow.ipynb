{
 "cells": [
  {
   "cell_type": "code",
   "execution_count": 1,
   "metadata": {},
   "outputs": [
    {
     "name": "stderr",
     "output_type": "stream",
     "text": [
      "ERROR:duecredit:Failed to import duecredit due to No module named 'duecredit'\n"
     ]
    },
    {
     "name": "stdout",
     "output_type": "stream",
     "text": [
      "200623-06:45:09,54 nipype.utils INFO:\n",
      "\t Running nipype version 1.4.2 (latest: 1.5.0)\n"
     ]
    },
    {
     "name": "stderr",
     "output_type": "stream",
     "text": [
      "INFO:nipype.utils:Running nipype version 1.4.2 (latest: 1.5.0)\n"
     ]
    }
   ],
   "source": [
    "import sys\n",
    "sys.path.append('/Users/miriedel/Desktop/GitHub/niconn/')\n",
    "from connectivity.macm import macm_workflow"
   ]
  },
  {
   "cell_type": "code",
   "execution_count": 2,
   "metadata": {},
   "outputs": [],
   "source": [
    "roi = '/Users/miriedel/Desktop/GitHub/niconn/tests/test_macm/ns_hand_roi.nii.gz'\n",
    "ns_data_dir = '/Users/miriedel/Desktop/GitHub/niconn/tests/test_macm/ns_data_dir'"
   ]
  },
  {
   "cell_type": "code",
   "execution_count": 3,
   "metadata": {},
   "outputs": [
    {
     "name": "stderr",
     "output_type": "stream",
     "text": [
      "INFO:nimare.correct.base:Using correction method implemented in Estimator: <class 'nimare.meta.cbma.ale.ALE'>.correct_fwe_permutation.\n"
     ]
    },
    {
     "data": {
      "application/vnd.jupyter.widget-view+json": {
       "model_id": "3ab771ceaa714913b2bfdee49eb25d4a",
       "version_major": 2,
       "version_minor": 0
      },
      "text/plain": [
       "HBox(children=(FloatProgress(value=0.0, max=10.0), HTML(value='')))"
      ]
     },
     "metadata": {},
     "output_type": "display_data"
    },
    {
     "name": "stdout",
     "output_type": "stream",
     "text": [
      "\n"
     ]
    },
    {
     "name": "stderr",
     "output_type": "stream",
     "text": [
      "/Users/miriedel/Desktop/GitHub/NiMARE/nimare/meta/cbma/ale.py:348: RuntimeWarning: divide by zero encountered in log\n",
      "  logp_vfwe_values = -np.log(p_fwe_values)\n"
     ]
    }
   ],
   "source": [
    "macm_workflow(mask=roi, ns_data_dir=ns_data_dir)"
   ]
  },
  {
   "cell_type": "code",
   "execution_count": null,
   "metadata": {},
   "outputs": [],
   "source": []
  }
 ],
 "metadata": {
  "kernelspec": {
   "display_name": "Python 3",
   "language": "python",
   "name": "python3"
  },
  "language_info": {
   "codemirror_mode": {
    "name": "ipython",
    "version": 3
   },
   "file_extension": ".py",
   "mimetype": "text/x-python",
   "name": "python",
   "nbconvert_exporter": "python",
   "pygments_lexer": "ipython3",
   "version": "3.7.1"
  }
 },
 "nbformat": 4,
 "nbformat_minor": 4
}
